{
 "cells": [
  {
   "cell_type": "markdown",
   "metadata": {},
   "source": [
    "# Sparkify Project Workspace\n",
    "This workspace contains a tiny subset (128MB) of the full dataset available (12GB). Feel free to use this workspace to build your project, or to explore a smaller subset with Spark before deploying your cluster on the cloud. Instructions for setting up your Spark cluster is included in the last lesson of the Extracurricular Spark Course content.\n",
    "\n",
    "You can follow the steps below to guide your data analysis and model building portion of this project."
   ]
  },
  {
   "cell_type": "code",
   "execution_count": 2,
   "metadata": {},
   "outputs": [],
   "source": [
    "# import libraries\n",
    "from pyspark.sql import SparkSession\n",
    "from pyspark.sql.functions import avg, col, concat, desc, explode, lit, min, max, split, udf, isnull\n",
    "from pyspark.sql.types import IntegerType\n",
    "\n",
    "from pyspark.ml import Pipeline\n",
    "from pyspark.ml.classification import LogisticRegression, RandomForestClassifier, GBTClassifier, DecisionTreeClassifier, NaiveBayes\n",
    "from pyspark.ml.evaluation import MulticlassClassificationEvaluator\n",
    "from pyspark.ml.feature import CountVectorizer, IDF, Normalizer, PCA, RegexTokenizer, StandardScaler, StopWordsRemover, StringIndexer, VectorAssembler\n",
    "from pyspark.ml.regression import LinearRegression\n",
    "from pyspark.ml.tuning import CrossValidator, ParamGridBuilder\n",
    "\n",
    "import re\n",
    "import datetime\n",
    "import matplotlib.pyplot as plt\n",
    "import pandas as pd\n",
    "import seaborn as sns"
   ]
  },
  {
   "cell_type": "code",
   "execution_count": 3,
   "metadata": {},
   "outputs": [],
   "source": [
    "# create a Spark session\n",
    "spark = SparkSession     .builder     .appName(\"Sparkify\")     .getOrCreate()"
   ]
  },
  {
   "cell_type": "markdown",
   "metadata": {},
   "source": [
    "# Load and Clean Dataset\n",
    "In this workspace, the mini-dataset file is `mini_sparkify_event_data.json`. Load and clean the dataset, checking for invalid or missing data - for example, records without userids or sessionids. "
   ]
  },
  {
   "cell_type": "code",
   "execution_count": 4,
   "metadata": {},
   "outputs": [
    {
     "data": {
      "text/plain": [
       "DataFrame[artist: string, auth: string, firstName: string, gender: string, itemInSession: bigint, lastName: string, length: double, level: string, location: string, method: string, page: string, registration: bigint, sessionId: bigint, song: string, status: bigint, ts: bigint, userAgent: string, userId: string]"
      ]
     },
     "execution_count": 4,
     "metadata": {},
     "output_type": "execute_result"
    }
   ],
   "source": [
    "# Load in full sparkify dataset\n",
    "\n",
    "sparkify_data = 'mini_sparkify_event_data.json'\n",
    "df = spark.read.json(sparkify_data)\n",
    "df.persist()"
   ]
  },
  {
   "cell_type": "code",
   "execution_count": 5,
   "metadata": {},
   "outputs": [
    {
     "data": {
      "text/plain": [
       "278154"
      ]
     },
     "execution_count": 5,
     "metadata": {},
     "output_type": "execute_result"
    }
   ],
   "source": [
    "#Clean Dataset\n",
    "df.count()\n",
    "df = df.dropna(how = \"any\", subset = [\"userId\", \"sessionId\"])\n",
    "df.count()\n",
    "df = df.filter(df.userId!=\"\")\n",
    "df.count()"
   ]
  },
  {
   "cell_type": "markdown",
   "metadata": {},
   "source": [
    "# Exploratory Data Analysis\n",
    "When you're working with the full dataset, perform EDA by loading a small subset of the data and doing basic manipulations within Spark. In this workspace, you are already provided a small subset of data you can explore.\n",
    "\n",
    "### Define Churn\n",
    "\n",
    "Once you've done some preliminary analysis, create a column `Churn` to use as the label for your model. I suggest using the `Cancellation Confirmation` events to define your churn, which happen for both paid and free users. As a bonus task, you can also look into the `Downgrade` events.\n",
    "\n",
    "### Explore Data\n",
    "Once you've defined churn, perform some exploratory data analysis to observe the behavior for users who stayed vs users who churned. You can start by exploring aggregates on these two groups of users, observing how much of a specific action they experienced per a certain time unit or number of songs played."
   ]
  },
  {
   "cell_type": "code",
   "execution_count": 9,
   "metadata": {},
   "outputs": [
    {
     "name": "stdout",
     "output_type": "stream",
     "text": [
      "+--------------------+\n",
      "|                page|\n",
      "+--------------------+\n",
      "|              Cancel|\n",
      "|    Submit Downgrade|\n",
      "|         Thumbs Down|\n",
      "|                Home|\n",
      "|           Downgrade|\n",
      "|         Roll Advert|\n",
      "|              Logout|\n",
      "|       Save Settings|\n",
      "|Cancellation Conf...|\n",
      "|               About|\n",
      "|            Settings|\n",
      "|     Add to Playlist|\n",
      "|          Add Friend|\n",
      "|            NextSong|\n",
      "|           Thumbs Up|\n",
      "|                Help|\n",
      "|             Upgrade|\n",
      "|               Error|\n",
      "|      Submit Upgrade|\n",
      "+--------------------+\n",
      "\n",
      "+------+\n",
      "|userId|\n",
      "+------+\n",
      "|   125|\n",
      "|    51|\n",
      "|    54|\n",
      "|100014|\n",
      "|   101|\n",
      "|    29|\n",
      "|100021|\n",
      "|    87|\n",
      "|    73|\n",
      "|     3|\n",
      "+------+\n",
      "only showing top 10 rows\n",
      "\n"
     ]
    }
   ],
   "source": [
    "df.select(\"page\").dropDuplicates().show()\n",
    "df.filter(df.page==\"Cancellation Confirmation\").select(\"userId\").dropDuplicates().show(10)"
   ]
  },
  {
   "cell_type": "code",
   "execution_count": 10,
   "metadata": {},
   "outputs": [],
   "source": [
    "# adding time to see the time clear\n",
    "get_time = udf(lambda x: datetime.datetime.fromtimestamp(x / 1000.0).strftime(\"%Y-%m-%d %H:%M:%S\"))\n",
    "df = df.withColumn(\"time\", get_time(df.ts))"
   ]
  },
  {
   "cell_type": "code",
   "execution_count": 11,
   "metadata": {},
   "outputs": [
    {
     "name": "stdout",
     "output_type": "stream",
     "text": [
      "+------+----+----+-----+----+---------+\n",
      "|userId|page|time|level|song|sessionId|\n",
      "+------+----+----+-----+----+---------+\n",
      "+------+----+----+-----+----+---------+\n",
      "\n",
      "+-----+------+-----+\n",
      "|churn|gender|count|\n",
      "+-----+------+-----+\n",
      "|false|     M|   89|\n",
      "|false|     F|   84|\n",
      "| true|     F|   20|\n",
      "| true|     M|   32|\n",
      "+-----+------+-----+\n",
      "\n",
      "+-------+-------------------+\n",
      "|summary|               time|\n",
      "+-------+-------------------+\n",
      "|  count|             278154|\n",
      "|   mean|               null|\n",
      "| stddev|               null|\n",
      "|    min|2018-10-01 00:01:57|\n",
      "|    max|2018-12-03 01:11:16|\n",
      "+-------+-------------------+\n",
      "\n"
     ]
    },
    {
     "data": {
      "image/png": "[encoded data removed]",
      "text/plain": [
       "<matplotlib.figure.Figure at 0x7fec8ecb9898>"
      ]
     },
     "metadata": {
      "needs_background": "light"
     },
     "output_type": "display_data"
    },
    {
     "data": {
      "image/png": "[encoded data removed]",
      "text/plain": [
       "<matplotlib.figure.Figure at 0x7fecc61a9860>"
      ]
     },
     "metadata": {
      "needs_background": "light"
     },
     "output_type": "display_data"
    }
   ],
   "source": [
    "df.select([\"userId\", \"page\", \"time\", \"level\", \"song\", \"sessionId\"]).where(df.userId == \"296\").sort(\"time\").show(100)\n",
    "churn_users = df.filter(df.page==\"Cancellation Confirmation\").select(\"userId\").dropDuplicates()\n",
    "churn_users_list = [(row['userId']) for row in churn_users.collect()]\n",
    "df_withchurn = df.withColumn(\"churn\", df.userId.isin(churn_users_list))\n",
    "df_withchurn.dropDuplicates([\"userId\", \"gender\"]).groupby([\"churn\", \"gender\"]).count().sort(\"churn\").show()\n",
    "df_pd = df_withchurn.dropDuplicates([\"userId\", \"gender\"]).groupby([\"churn\", \"gender\"]).count().sort(\"churn\").toPandas()\n",
    "sns.barplot(x='churn', y='count', hue='gender', data=df_pd)\n",
    "churn_count = df_withchurn.filter(df_withchurn.churn==1).count()\n",
    "no_churn_count = df_withchurn.filter(df_withchurn.churn==0).count()\n",
    "\n",
    "df_temp1 = df_withchurn.filter(df_withchurn.churn==1).filter(df_withchurn.page!=\"NextSong\").groupby([\"page\"]).count()\n",
    "df_temp1 = df_temp1.withColumn(\"cFreq\", df_temp1[\"count\"]/(churn_count/100)).sort(\"page\")\n",
    "\n",
    "df_temp2 = df_withchurn.filter(df_withchurn.churn==0).filter(df_withchurn.page!=\"NextSong\").groupby([\"page\"]).count()\n",
    "df_temp2 = df_temp2.withColumn(\"ncFreq\", df_temp2[\"count\"]/(no_churn_count/100)).sort(\"page\")\n",
    "df_pd = df_temp1.join(df_temp2, \"page\", \"outer\").drop(\"count\").fillna(0).toPandas()\n",
    "df_pd.plot.bar(\"page\")\n",
    "df_pd = df_withchurn.filter(df_withchurn.page==\"Cancellation Confirmation\").groupby(\"level\").count().toPandas()\n",
    "sns.barplot(x=\"level\", y=\"count\", data=df_pd)\n",
    "df_withchurn.select(\"time\").describe().show()\n",
    "df_pd = df_withchurn.groupby(\"churn\", \"userId\", \"sessionId\").count().toPandas()\n",
    "sns.boxplot(x='count', y='churn', orient=\"h\", data=df_pd)\n",
    "get_hour = udf(lambda x: datetime.datetime.fromtimestamp(x / 1000.0).hour)\n",
    "df_withchurn = df_withchurn.withColumn(\"hour\", get_hour(df_withchurn.ts))\n",
    "\n",
    "get_weekday = udf(lambda x: datetime.datetime.fromtimestamp(x / 1000.0).strftime(\"%w\"))\n",
    "df_withchurn = df_withchurn.withColumn(\"weekday\", get_weekday(df_withchurn.ts))\n",
    "\n",
    "get_day = udf(lambda x: datetime.datetime.fromtimestamp(x / 1000.0).day)\n",
    "df_withchurn = df_withchurn.withColumn(\"day\", get_day(df_withchurn.ts))"
   ]
  },
  {
   "cell_type": "code",
   "execution_count": 12,
   "metadata": {},
   "outputs": [
    {
     "data": {
      "image/png": "[encoded data removed]",
      "text/plain": [
       "<matplotlib.figure.Figure at 0x7fec8ecb9588>"
      ]
     },
     "metadata": {
      "needs_background": "light"
     },
     "output_type": "display_data"
    },
    {
     "data": {
      "image/png": "[encoded data removed]",
      "text/plain": [
       "<matplotlib.figure.Figure at 0x7fec8c9fe898>"
      ]
     },
     "metadata": {
      "needs_background": "light"
     },
     "output_type": "display_data"
    },
    {
     "data": {
      "image/png": "[encoded data removed]",
      "text/plain": [
       "<matplotlib.figure.Figure at 0x7fec8c98b470>"
      ]
     },
     "metadata": {
      "needs_background": "light"
     },
     "output_type": "display_data"
    },
    {
     "data": {
      "image/png": "[encoded data removed]",
      "text/plain": [
       "<matplotlib.figure.Figure at 0x7fec8c924ba8>"
      ]
     },
     "metadata": {
      "needs_background": "light"
     },
     "output_type": "display_data"
    },
    {
     "data": {
      "image/png": "[encoded data removed]",
      "text/plain": [
       "<matplotlib.figure.Figure at 0x7fec8c8704e0>"
      ]
     },
     "metadata": {
      "needs_background": "light"
     },
     "output_type": "display_data"
    },
    {
     "data": {
      "image/png": "[encoded data removed]",
      "text/plain": [
       "<matplotlib.figure.Figure at 0x7fec8c7c50b8>"
      ]
     },
     "metadata": {
      "needs_background": "light"
     },
     "output_type": "display_data"
    }
   ],
   "source": [
    "def plot_cnt_by_churn(time): \n",
    "    \"\"\"\n",
    "    This function use to plot the distribution of different dimension\n",
    "    \"\"\"\n",
    "    df_pd = df_withchurn.filter(df_withchurn.page == \"NextSong\").groupby(\"churn\", time).count().orderBy(df_withchurn[time].cast(\"float\")).toPandas()\n",
    "    df_pd[time] = pd.to_numeric(df_pd[time])\n",
    "    df_pd[df_pd.churn==0].plot.bar(x=time, y='count', color='Blue', label='Not churn')\n",
    "    df_pd[df_pd.churn==1].plot.bar(x=time, y='count', color='Red', label='Churn')\n",
    "plot_cnt_by_churn(\"hour\")\n",
    "plot_cnt_by_churn(\"weekday\")\n",
    "plot_cnt_by_churn(\"day\")"
   ]
  },
  {
   "cell_type": "markdown",
   "metadata": {},
   "source": [
    "# Feature Engineering\n",
    "Once you've familiarized yourself with the data, build out the features you find promising to train your model on. To work with the full dataset, you can follow the following steps.\n",
    "- Write a script to extract the necessary features from the smaller subset of data\n",
    "- Ensure that your script is scalable, using the best practices discussed in Lesson 3\n",
    "- Try your script on the full data set, debugging your script if necessary\n",
    "\n",
    "If you are working in the classroom workspace, you can just extract features based on the small subset of data contained here. Be sure to transfer over this work to the larger dataset when you work on your Spark cluster."
   ]
  },
  {
   "cell_type": "code",
   "execution_count": 13,
   "metadata": {},
   "outputs": [
    {
     "name": "stdout",
     "output_type": "stream",
     "text": [
      "+------+------------------+\n",
      "|userId|            regDay|\n",
      "+------+------------------+\n",
      "|    10| 51.76265046296297|\n",
      "|   100| 64.87377314814815|\n",
      "|100001| 44.80021990740741|\n",
      "|100002|160.47207175925925|\n",
      "|100003|22.748113425925926|\n",
      "+------+------------------+\n",
      "only showing top 5 rows\n",
      "\n",
      "+------+------------------+-----------------+------------------+\n",
      "|userId|    avgSessionTime|   minSessionTime|    maxSessionTime|\n",
      "+------+------------------+-----------------+------------------+\n",
      "|    10|459.74722222222226|91.41666666666667|1547.9166666666667|\n",
      "|   100| 316.5190476190476|              0.0|1019.5833333333334|\n",
      "|100001|148.15833333333333|             63.0|215.28333333333333|\n",
      "|100002|201.18333333333334|              0.0| 730.4666666666667|\n",
      "|100003| 99.11666666666667|3.216666666666667|195.01666666666668|\n",
      "+------+------------------+-----------------+------------------+\n",
      "only showing top 5 rows\n",
      "\n",
      "+------+------------------+\n",
      "|userId|   avgSessionSongs|\n",
      "+------+------------------+\n",
      "|    10|112.16666666666667|\n",
      "|   100| 78.88235294117646|\n",
      "|100001|             33.25|\n",
      "|100002|             48.75|\n",
      "|100003|              25.5|\n",
      "+------+------------------+\n",
      "only showing top 5 rows\n",
      "\n",
      "+------+------------+\n",
      "|userId|sessionCount|\n",
      "+------+------------+\n",
      "|100010|           7|\n",
      "|200002|           6|\n",
      "|   125|           1|\n",
      "|    51|          10|\n",
      "|   124|          29|\n",
      "+------+------------+\n",
      "only showing top 5 rows\n",
      "\n",
      "+------+------+\n",
      "|userId|gender|\n",
      "+------+------+\n",
      "|    44|     1|\n",
      "|    46|     1|\n",
      "|    41|     1|\n",
      "|    72|     1|\n",
      "|300023|     1|\n",
      "+------+------+\n",
      "only showing top 5 rows\n",
      "\n",
      "+------+-----+\n",
      "|userId|level|\n",
      "+------+-----+\n",
      "|    10|    1|\n",
      "|   100|    1|\n",
      "|100001|    0|\n",
      "|100002|    1|\n",
      "|100003|    0|\n",
      "+------+-----+\n",
      "only showing top 5 rows\n",
      "\n"
     ]
    }
   ],
   "source": [
    "user_max_ts = df_withchurn.groupby(\"userId\").max(\"ts\").sort(\"userId\")\n",
    "user_reg_ts = df_withchurn.select(\"userId\", \"registration\").dropDuplicates().sort(\"userId\")\n",
    "user_reg_days = user_reg_ts.join(user_max_ts, user_reg_ts.userId == user_max_ts.userId).select(user_reg_ts[\"userId\"], ((user_max_ts[\"max(ts)\"]-user_reg_ts[\"registration\"])/(1000*60*60*24)).alias(\"regDay\"))\n",
    "\n",
    "user_reg_days.show(5)\n",
    "user_session_time = df_withchurn.groupby(\"userId\", \"sessionId\").agg(((max(df_withchurn.ts)-min(df_withchurn.ts))/(1000*60)).alias(\"sessionTime\"))\n",
    "user_session_time_stat = user_session_time.groupby(\"userId\").agg(avg(user_session_time.sessionTime).alias(\"avgSessionTime\"), min(user_session_time.sessionTime).alias(\"minSessionTime\"), max(user_session_time.sessionTime).alias(\"maxSessionTime\")).sort(\"userId\")\n",
    "user_session_time_stat.show(5)\n",
    "user_session_songs = df_withchurn.filter(df_withchurn.page==\"NextSong\").groupby(\"userId\", \"sessionId\").count()\n",
    "user_session_songs_avg = user_session_songs.groupby(\"userId\").agg(avg(user_session_songs[\"count\"]).alias(\"avgSessionSongs\")).sort(\"userId\")\n",
    "user_session_songs_avg.show(5)\n",
    "user_session_count = df_withchurn.select(\"userId\", \"sessionId\").dropDuplicates().groupby(\"userId\").count()\n",
    "user_session_count = user_session_count.withColumnRenamed(\"count\", \"sessionCount\")\n",
    "user_session_count.show(5)\n",
    "user_gender = df_withchurn.select(\"userId\", \"gender\").dropDuplicates()\n",
    "user_gender = user_gender.replace([\"M\", \"F\"], [\"0\", \"1\"], \"gender\")\n",
    "user_gender = user_gender.select(\"userId\", user_gender.gender.cast(\"int\"))\n",
    "\n",
    "user_gender.show(5)\n",
    "user_paid = df_withchurn.groupby(\"userId\", \"level\").agg(max(df_withchurn.ts).alias(\"finalTime\")).sort(\"userId\")\n",
    "user_recent_level_time = user_paid.groupby(\"userId\").agg(max(user_paid.finalTime).alias(\"recent\"))\n",
    "user_recent_level = user_recent_level_time.join(user_paid, [user_paid.userId == user_recent_level_time.userId, user_recent_level_time.recent == user_paid.finalTime]).select(user_paid.userId, \"level\").sort(\"userId\")\n",
    "user_recent_level = user_recent_level.replace([\"free\", \"paid\"], [\"0\", \"1\"], \"level\")\n",
    "user_recent_level = user_recent_level.select(\"userId\", user_recent_level.level.cast(\"int\"))\n",
    "\n",
    "user_recent_level.show(5)"
   ]
  },
  {
   "cell_type": "code",
   "execution_count": 14,
   "metadata": {},
   "outputs": [],
   "source": [
    "# showing all type of page\n",
    "page_list = [(row['page']) for row in df_withchurn.select(\"page\").dropDuplicates().collect()]"
   ]
  },
  {
   "cell_type": "code",
   "execution_count": 15,
   "metadata": {},
   "outputs": [],
   "source": [
    "# removing the column which will cause data leakage\n",
    "page_list.remove(\"Cancel\")\n",
    "page_list.remove(\"Cancellation Confirmation\")"
   ]
  },
  {
   "cell_type": "code",
   "execution_count": 16,
   "metadata": {},
   "outputs": [
    {
     "name": "stdout",
     "output_type": "stream",
     "text": [
      "+------+--------------------+------------------+------------------+------------------+-------------------+------------------+-------------------+-------------------+-------------------+------------------+------------------+-----------------+-----------------+-------------------+--------------------+-------------------+--------------------+\n",
      "|userId| freqSubmitDowngrade|    freqThumbsDown|          freqHome|     freqDowngrade|     freqRollAdvert|        freqLogout|   freqSaveSettings|          freqAbout|       freqSettings| freqAddtoPlaylist|     freqAddFriend|     freqNextSong|     freqThumbsUp|           freqHelp|         freqUpgrade|          freqError|   freqSubmitUpgrade|\n",
      "+------+--------------------+------------------+------------------+------------------+-------------------+------------------+-------------------+-------------------+-------------------+------------------+------------------+-----------------+-----------------+-------------------+--------------------+-------------------+--------------------+\n",
      "|    10|                 0.0|0.5031446540880503|3.7735849056603774|0.8805031446540881|0.12578616352201258|1.3836477987421383|0.12578616352201258|0.25157232704402516| 0.8805031446540881|1.1320754716981132|1.5094339622641508|84.65408805031447|4.654088050314465|0.12578616352201258|                 0.0|                0.0|                 0.0|\n",
      "|   100|0.031113876789047916|0.8400746733042938| 3.266957062850031|0.9334163036714375| 0.7778469197261979| 1.088985687616677| 0.1555693839452396|0.37336652146857496|0.34225264467952704| 1.897946484131923|1.5245799626633478|83.44741754822651|4.604853764779091| 0.5600497822028625|0.031113876789047916|0.09334163036714374|0.031113876789047916|\n",
      "|100001|                 0.0|  1.06951871657754|  5.88235294117647|               0.0| 7.4866310160427805|3.7433155080213902|                0.0|                0.0|   0.53475935828877|1.6042780748663101|  1.06951871657754|71.12299465240642| 4.27807486631016|   0.53475935828877|    1.06951871657754|   0.53475935828877|                 0.0|\n",
      "|100002|                 0.0|               0.0|2.7522935779816513|0.9174311926605504| 1.3761467889908257|0.4587155963302752|                0.0|                0.0|                0.0| 2.293577981651376|0.4587155963302752|89.44954128440367|2.293577981651376|                0.0|                 0.0|                0.0|                 0.0|\n",
      "|100003|                 0.0|               0.0| 8.974358974358974|               0.0| 11.538461538461538| 3.846153846153846|                0.0|                0.0|                0.0| 2.564102564102564|               0.0|65.38461538461539|3.846153846153846|  1.282051282051282|                 0.0|                0.0|                 0.0|\n",
      "+------+--------------------+------------------+------------------+------------------+-------------------+------------------+-------------------+-------------------+-------------------+------------------+------------------+-----------------+-----------------+-------------------+--------------------+-------------------+--------------------+\n",
      "only showing top 5 rows\n",
      "\n",
      "+------+-----------+\n",
      "|userId|aritstCount|\n",
      "+------+-----------+\n",
      "|100010|        252|\n",
      "|200002|        339|\n",
      "|   125|          8|\n",
      "|    51|       1385|\n",
      "|   124|       2232|\n",
      "+------+-----------+\n",
      "only showing top 5 rows\n",
      "\n",
      "+------+-----+\n",
      "|userId|churn|\n",
      "+------+-----+\n",
      "|    19|    0|\n",
      "|100005|    1|\n",
      "|200007|    0|\n",
      "|300007|    1|\n",
      "|    50|    0|\n",
      "+------+-----+\n",
      "only showing top 5 rows\n",
      "\n"
     ]
    }
   ],
   "source": [
    "# calculating the total page each user view\n",
    "user_page_view_count = df_withchurn.groupby(\"userId\").count()\n",
    "user_page_view_count = user_page_view_count.withColumnRenamed(\"count\", \"pageCount\")\n",
    "\n",
    "for page in page_list:\n",
    "    col_name = \"count\" + page.replace(\" \", \"\")\n",
    "    view_count = df_withchurn.filter(df_withchurn.page==page).groupby(\"userId\").count()\n",
    "    view_count = view_count.withColumnRenamed(\"count\", col_name).withColumnRenamed(\"userId\", \"userIdTemp\")\n",
    "    user_page_view_count = user_page_view_count.join(view_count, user_page_view_count.userId==view_count.userIdTemp, \"left\").drop(\"userIdTemp\")\n",
    "user_page_view_count = user_page_view_count.sort(\"userId\")\n",
    "user_page_view_count = user_page_view_count.fillna(0)\n",
    "col_list = user_page_view_count.columns\n",
    "col_list.remove(\"userId\")\n",
    "col_list.remove(\"pageCount\")\n",
    "freq_sql = \"select userId\"\n",
    "for col in col_list:\n",
    "    col_name = col.replace(\"count\", \"freq\")\n",
    "    sql_str = \", (\" + col + \"/(pageCount/100)) as \" + col_name\n",
    "    freq_sql = freq_sql + sql_str\n",
    "freq_sql = freq_sql + \" from user_page_view_count\"\n",
    "\n",
    "user_page_view_count.createOrReplaceTempView(\"user_page_view_count\")\n",
    "col_list = user_page_view_count.columns\n",
    "col_list.remove(\"userId\")\n",
    "col_list.remove(\"pageCount\")\n",
    "freq_sql = \"select userId\"\n",
    "for col in col_list:\n",
    "    col_name = col.replace(\"count\", \"freq\")\n",
    "    sql_str = \", (\" + col + \"/(pageCount/100)) as \" + col_name\n",
    "    freq_sql = freq_sql + sql_str\n",
    "freq_sql = freq_sql + \" from user_page_view_count\"\n",
    "\n",
    "user_page_view_freq = spark.sql(freq_sql)\n",
    "\n",
    "user_page_view_freq.show(5)\n",
    "user_artist_count = df_withchurn.filter(df_withchurn.page==\"NextSong\").select(\"userId\", \"artist\").dropDuplicates().groupby(\"userId\").count()\n",
    "user_artist_count = user_artist_count.withColumnRenamed(\"count\", \"aritstCount\")\n",
    "user_artist_count.show(5)\n",
    "user_churn = df_withchurn.select(\"userId\", \"churn\").dropDuplicates()\n",
    "user_churn = user_churn.select(\"userId\", user_churn.churn.cast(\"int\"))\n",
    "user_churn.show(5)"
   ]
  },
  {
   "cell_type": "code",
   "execution_count": 17,
   "metadata": {},
   "outputs": [],
   "source": [
    "# put all the features dataframe into a list\n",
    "features_list = []\n",
    "features_list.append(user_reg_days)\n",
    "features_list.append(user_session_time_stat)\n",
    "features_list.append(user_session_songs_avg)\n",
    "features_list.append(user_session_count)\n",
    "features_list.append(user_gender)\n",
    "features_list.append(user_recent_level)\n",
    "features_list.append(user_page_view_freq)\n",
    "features_list.append(user_artist_count)\n",
    "features_list.append(user_churn)"
   ]
  },
  {
   "cell_type": "code",
   "execution_count": 18,
   "metadata": {},
   "outputs": [],
   "source": [
    "# prepare the final dataframe to join all the other features\n",
    "df_final = df_withchurn.select(\"userId\").dropDuplicates()"
   ]
  },
  {
   "cell_type": "code",
   "execution_count": 19,
   "metadata": {},
   "outputs": [],
   "source": [
    "def features_merge(df1, df2):\n",
    "    \"\"\"\n",
    "    This function is used to merge the feature using left join\n",
    "    input: two data frame to be merged\n",
    "    output: merged dataframe\n",
    "    \"\"\"\n",
    "    df2 = df2.withColumnRenamed(\"userId\", \"userIdTemp\")\n",
    "    df = df1.join(df2, df1.userId == df2.userIdTemp, \"left\").drop(\"userIdTemp\")\n",
    "    return df"
   ]
  },
  {
   "cell_type": "code",
   "execution_count": 20,
   "metadata": {},
   "outputs": [
    {
     "name": "stdout",
     "output_type": "stream",
     "text": [
      "+------+------------------+------------------+-----------------+------------------+------------------+------------+------+-----+--------------------+------------------+------------------+------------------+-------------------+------------------+-------------------+-------------------+-------------------+------------------+------------------+-----------------+-----------------+-------------------+--------------------+-------------------+--------------------+-----------+-----+\n",
      "|userId|            regDay|    avgSessionTime|   minSessionTime|    maxSessionTime|   avgSessionSongs|sessionCount|gender|level| freqSubmitDowngrade|    freqThumbsDown|          freqHome|     freqDowngrade|     freqRollAdvert|        freqLogout|   freqSaveSettings|          freqAbout|       freqSettings| freqAddtoPlaylist|     freqAddFriend|     freqNextSong|     freqThumbsUp|           freqHelp|         freqUpgrade|          freqError|   freqSubmitUpgrade|aritstCount|churn|\n",
      "+------+------------------+------------------+-----------------+------------------+------------------+------------+------+-----+--------------------+------------------+------------------+------------------+-------------------+------------------+-------------------+-------------------+-------------------+------------------+------------------+-----------------+-----------------+-------------------+--------------------+-------------------+--------------------+-----------+-----+\n",
      "|    10| 51.76265046296297|459.74722222222226|91.41666666666667|1547.9166666666667|112.16666666666667|           6|     0|    1|                 0.0|0.5031446540880503|3.7735849056603774|0.8805031446540881|0.12578616352201258|1.3836477987421383|0.12578616352201258|0.25157232704402516| 0.8805031446540881|1.1320754716981132|1.5094339622641508|84.65408805031447|4.654088050314465|0.12578616352201258|                 0.0|                0.0|                 0.0|        565|    0|\n",
      "|   100| 64.87377314814815| 316.5190476190476|              0.0|1019.5833333333334| 78.88235294117646|          35|     0|    1|0.031113876789047916|0.8400746733042938| 3.266957062850031|0.9334163036714375| 0.7778469197261979| 1.088985687616677| 0.1555693839452396|0.37336652146857496|0.34225264467952704| 1.897946484131923|1.5245799626633478|83.44741754822651|4.604853764779091| 0.5600497822028625|0.031113876789047916|0.09334163036714374|0.031113876789047916|       1705|    0|\n",
      "|100001| 44.80021990740741|148.15833333333333|             63.0|215.28333333333333|             33.25|           4|     1|    0|                 0.0|  1.06951871657754|  5.88235294117647|               0.0| 7.4866310160427805|3.7433155080213902|                0.0|                0.0|   0.53475935828877|1.6042780748663101|  1.06951871657754|71.12299465240642| 4.27807486631016|   0.53475935828877|    1.06951871657754|   0.53475935828877|                 0.0|        125|    1|\n",
      "|100002|160.47207175925925|201.18333333333334|              0.0| 730.4666666666667|             48.75|           4|     1|    1|                 0.0|               0.0|2.7522935779816513|0.9174311926605504| 1.3761467889908257|0.4587155963302752|                0.0|                0.0|                0.0| 2.293577981651376|0.4587155963302752|89.44954128440367|2.293577981651376|                0.0|                 0.0|                0.0|                 0.0|        184|    0|\n",
      "|100003|22.748113425925926| 99.11666666666667|3.216666666666667|195.01666666666668|              25.5|           2|     1|    0|                 0.0|               0.0| 8.974358974358974|               0.0| 11.538461538461538| 3.846153846153846|                0.0|                0.0|                0.0| 2.564102564102564|               0.0|65.38461538461539|3.846153846153846|  1.282051282051282|                 0.0|                0.0|                 0.0|         50|    1|\n",
      "+------+------------------+------------------+-----------------+------------------+------------------+------------+------+-----+--------------------+------------------+------------------+------------------+-------------------+------------------+-------------------+-------------------+-------------------+------------------+------------------+-----------------+-----------------+-------------------+--------------------+-------------------+--------------------+-----------+-----+\n",
      "only showing top 5 rows\n",
      "\n"
     ]
    }
   ],
   "source": [
    "# use function to merge the features in the list\n",
    "for feature in features_list:\n",
    "    df_final = features_merge(df_final, feature)\n",
    "\n",
    "# sort and view the final dataframe\n",
    "df_final = df_final.sort(\"userId\")\n",
    "df_final.persist()\n",
    "df_final.show(5)"
   ]
  },
  {
   "cell_type": "markdown",
   "metadata": {},
   "source": [
    "# Modeling\n",
    "Split the full dataset into train, test, and validation sets. Test out several of the machine learning methods you learned. Evaluate the accuracy of the various models, tuning parameters as necessary. Determine your winning model based on test accuracy and report results on the validation set. Since the churned users are a fairly small subset, I suggest using F1 score as the metric to optimize."
   ]
  },
  {
   "cell_type": "code",
   "execution_count": 21,
   "metadata": {},
   "outputs": [
    {
     "name": "stdout",
     "output_type": "stream",
     "text": [
      "+-----+-----+\n",
      "|churn|count|\n",
      "+-----+-----+\n",
      "|    1|   52|\n",
      "|    0|  173|\n",
      "+-----+-----+\n",
      "\n"
     ]
    }
   ],
   "source": [
    "df_final.groupby(\"churn\").count().show()\n",
    "out_path = \"final_data.csv\"\n",
    "df_final.write.save(out_path, format=\"csv\", header=True)\n",
    "\n",
    "df_final = spark.read.csv(out_path, header=True)\n",
    "df_final.persist()\n",
    "\n",
    "num_features_list = df_final.columns[1:]\n",
    "for f in num_features_list:\n",
    "    f_name = f + \"Num\"\n",
    "    df_final = df_final.withColumn(f_name, df_final[f].cast(\"float\"))\n",
    "    df_final = df_final.drop(f)"
   ]
  },
  {
   "cell_type": "code",
   "execution_count": 22,
   "metadata": {},
   "outputs": [
    {
     "data": {
      "text/plain": [
       "[0.7760356855981378,\n",
       " 0.7864456431502405,\n",
       " 0.7733574899730469,\n",
       " 0.7277127148556533,\n",
       " 0.7326814587694896,\n",
       " 0.7273174211259148,\n",
       " 0.7350669036700854,\n",
       " 0.7919373059593184,\n",
       " 0.7768523538226852,\n",
       " 0.7890862394450029,\n",
       " 0.7150580060210645,\n",
       " 0.7198638104527632,\n",
       " 0.7132539649034881,\n",
       " 0.7132539649034881]"
      ]
     },
     "execution_count": 22,
     "metadata": {},
     "output_type": "execute_result"
    }
   ],
   "source": [
    "assembler = VectorAssembler(inputCols=df_final.columns[1:-1], outputCol=\"NumFeatures\")\n",
    "data = assembler.transform(df_final)\n",
    "\n",
    "scaler = StandardScaler(inputCol=\"NumFeatures\", outputCol=\"ScaledNumFeatures\", withStd=True)\n",
    "scalerModel = scaler.fit(data)\n",
    "data = scalerModel.transform(data)\n",
    "\n",
    "data = data.select(data.churnNum.alias(\"label\"), data.ScaledNumFeatures.alias(\"features\"))\n",
    "\n",
    "train, validation = data.randomSplit([0.9, 0.1], seed=42)\n",
    "train = train.cache()\n",
    "\n",
    "lr =  LogisticRegression()\n",
    "paramGrid = ParamGridBuilder()     .addGrid(lr.elasticNetParam,[0.0, 0.1, 0.5, 1.0])     .addGrid(lr.regParam,[0.0, 0.05, 0.1])     .build()\n",
    "\n",
    "crossval = CrossValidator(estimator=lr,\n",
    "                          estimatorParamMaps=paramGrid,\n",
    "                          evaluator=MulticlassClassificationEvaluator(),\n",
    "                          numFolds=3)\n",
    "cvModel_lr = crossval.fit(train)\n",
    "\n",
    "cvModel_lr.save('cvModel_lr.model')\n",
    "\n",
    "cvModel_lr.avgMetrics\n",
    "dt = DecisionTreeClassifier()\n",
    "paramGrid = ParamGridBuilder()     .addGrid(dt.impurity,['entropy', 'gini'])     .addGrid(dt.maxDepth,[2, 3, 4, 5, 6, 7, 8])     .build()\n",
    "\n",
    "crossval_dt = CrossValidator(estimator=dt,\n",
    "                          estimatorParamMaps=paramGrid,\n",
    "                          evaluator=MulticlassClassificationEvaluator(),\n",
    "                          numFolds=3)\n",
    "\n",
    "cvModel_dt = crossval_dt.fit(train)\n",
    "\n",
    "cvModel_dt.save('cvModel_dt.model')\n",
    "\n",
    "cvModel_dt.avgMetrics"
   ]
  },
  {
   "cell_type": "code",
   "execution_count": 23,
   "metadata": {},
   "outputs": [
    {
     "name": "stdout",
     "output_type": "stream",
     "text": [
      "+-----+-----+\n",
      "|label|count|\n",
      "+-----+-----+\n",
      "|  1.0|   44|\n",
      "|  0.0|   35|\n",
      "+-----+-----+\n",
      "\n"
     ]
    }
   ],
   "source": [
    "gbt = GBTClassifier()\n",
    "\n",
    "paramGrid = ParamGridBuilder()     .addGrid(gbt.maxIter,[3, 10, 20])     .addGrid(gbt.maxDepth,[2, 4, 6, 8])     .build()\n",
    "\n",
    "crossval_gbt = CrossValidator(estimator=gbt,\n",
    "                          estimatorParamMaps=paramGrid,\n",
    "                          evaluator=MulticlassClassificationEvaluator(),\n",
    "                          numFolds=3)\n",
    "\n",
    "cvModel_gbt = crossval_gbt.fit(train)\n",
    "\n",
    "cvModel_gbt.save('cvModel_gbt.model')\n",
    "\n",
    "cvModel_gbt.avgMetrics\n",
    "stratified_train = train.sampleBy('label', fractions={0: 99/349, 1: 1.0}).cache()\n",
    "stratified_train.groupby(\"label\").count().show()\n",
    "lrs =  LogisticRegression()\n",
    "paramGrid = ParamGridBuilder()     .addGrid(lrs.elasticNetParam,[0.0, 0.1, 0.5, 1.0])     .addGrid(lrs.regParam,[0.0, 0.05, 0.1])     .build()\n",
    "\n",
    "crossval_lrs = CrossValidator(estimator=lrs,\n",
    "                          estimatorParamMaps=paramGrid,\n",
    "                          evaluator=MulticlassClassificationEvaluator(),\n",
    "                          numFolds=3)\n",
    "cvModel_lrs = crossval_lrs.fit(stratified_train)\n",
    "cvModel_lrs.avgMetrics\n",
    "cvModel_lrs.save('cvModel_lrs.model')\n",
    "\n",
    "dts = DecisionTreeClassifier()\n",
    "paramGrid = ParamGridBuilder()     .addGrid(dts.impurity,['entropy', 'gini'])     .addGrid(dts.maxDepth,[2, 3, 4, 5, 6, 7, 8])     .build()\n",
    "crossval_dts = CrossValidator(estimator=dts,\n",
    "                          estimatorParamMaps=paramGrid,\n",
    "                          evaluator=MulticlassClassificationEvaluator(),\n",
    "                          numFolds=3)\n",
    "cvModel_dts = crossval_dts.fit(stratified_train)\n",
    "cvModel_dts.avgMetrics\n",
    "cvModel_dts.save('cvModel_dts.model')"
   ]
  },
  {
   "cell_type": "code",
   "execution_count": 28,
   "metadata": {},
   "outputs": [],
   "source": [
    "gbts = GBTClassifier()\n",
    "paramGrid = ParamGridBuilder()     .addGrid(gbts.maxIter,[3, 10, 20])     .addGrid(gbts.maxDepth,[2, 4, 6, 8])     .build()\n",
    "crossval_gbts = CrossValidator(estimator=gbts,\n",
    "                          estimatorParamMaps=paramGrid,\n",
    "                          evaluator=MulticlassClassificationEvaluator(),\n",
    "                          numFolds=3)\n",
    "cvModel_gbts = crossval_gbts.fit(stratified_train)\n",
    "cvModel_gbts.avgMetrics\n",
    "\n",
    "cvModel_gbts.save('cvModelfinal_gbts.model')\n",
    "\n",
    "results = cvModel_lr.transform(validation)\n",
    "\n"
   ]
  },
  {
   "cell_type": "code",
   "execution_count": 29,
   "metadata": {},
   "outputs": [
    {
     "name": "stdout",
     "output_type": "stream",
     "text": [
      "0.5\n",
      "0.25\n",
      "0.3333333333333333\n",
      "0.46153846153846156\n",
      "0.75\n",
      "0.5714285714285714\n"
     ]
    },
    {
     "data": {
      "text/plain": [
       "['userId',\n",
       " 'regDayNum',\n",
       " 'avgSessionTimeNum',\n",
       " 'minSessionTimeNum',\n",
       " 'maxSessionTimeNum',\n",
       " 'avgSessionSongsNum',\n",
       " 'sessionCountNum',\n",
       " 'genderNum',\n",
       " 'levelNum',\n",
       " 'freqSubmitDowngradeNum',\n",
       " 'freqThumbsDownNum',\n",
       " 'freqHomeNum',\n",
       " 'freqDowngradeNum',\n",
       " 'freqRollAdvertNum',\n",
       " 'freqLogoutNum',\n",
       " 'freqSaveSettingsNum',\n",
       " 'freqAboutNum',\n",
       " 'freqSettingsNum',\n",
       " 'freqAddtoPlaylistNum',\n",
       " 'freqAddFriendNum',\n",
       " 'freqNextSongNum',\n",
       " 'freqThumbsUpNum',\n",
       " 'freqHelpNum',\n",
       " 'freqUpgradeNum',\n",
       " 'freqErrorNum',\n",
       " 'freqSubmitUpgradeNum',\n",
       " 'aritstCountNum',\n",
       " 'churnNum']"
      ]
     },
     "execution_count": 29,
     "metadata": {},
     "output_type": "execute_result"
    }
   ],
   "source": [
    "tp = results.filter(\"label = 1 and prediction = 1\").count()\n",
    "fp = results.filter(\"label = 0 and prediction = 1\").count()\n",
    "fn = results.filter(\"label = 1 and prediction = 0\").count()\n",
    "precision = tp / (tp + fp) \n",
    "recall = tp / (tp + fn)\n",
    "f1 = 2*precision*recall / (precision+recall)\n",
    "print(precision)\n",
    "print(recall)\n",
    "print(f1)\n",
    "\n",
    "results = cvModel_lrs.transform(validation)\n",
    "\n",
    "tp = results.filter(\"label = 1 and prediction = 1\").count()\n",
    "fp = results.filter(\"label = 0 and prediction = 1\").count()\n",
    "fn = results.filter(\"label = 1 and prediction = 0\").count()\n",
    "precision = tp / (tp + fp) \n",
    "recall = tp / (tp + fn)\n",
    "f1 = 2*precision*recall / (precision+recall)\n",
    "print(precision)\n",
    "print(recall)\n",
    "print(f1)\n",
    "\n",
    "cvModel_lrs.bestModel.coefficients\n",
    "df_final.columns\n"
   ]
  },
  {
   "cell_type": "markdown",
   "metadata": {},
   "source": [
    "# Final Steps\n",
    "Clean up your code, adding comments and renaming variables to make the code easier to read and maintain. Refer to the Spark Project Overview page and Data Scientist Capstone Project Rubric to make sure you are including all components of the capstone project and meet all expectations. Remember, this includes thorough documentation in a README file in a Github repository, as well as a web app or blog post."
   ]
  },
  {
   "cell_type": "code",
   "execution_count": null,
   "metadata": {},
   "outputs": [],
   "source": []
  }
 ],
 "metadata": {
  "kernelspec": {
   "display_name": "Python 3",
   "language": "python",
   "name": "python3"
  },
  "language_info": {
   "codemirror_mode": {
    "name": "ipython",
    "version": 3
   },
   "file_extension": ".py",
   "mimetype": "text/x-python",
   "name": "python",
   "nbconvert_exporter": "python",
   "pygments_lexer": "ipython3",
   "version": "3.6.3"
  }
 },
 "nbformat": 4,
 "nbformat_minor": 2
}
